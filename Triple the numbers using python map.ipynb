{
 "cells": [
  {
   "cell_type": "code",
   "execution_count": 6,
   "id": "b7ffb111",
   "metadata": {},
   "outputs": [
    {
     "name": "stdout",
     "output_type": "stream",
     "text": [
      "Enter list length:7\n",
      "Enter list item:1\n",
      "Enter list item:2\n",
      "Enter list item:3\n",
      "Enter list item:4\n",
      "Enter list item:5\n",
      "Enter list item:6\n",
      "Enter list item:7\n",
      "Original list is: [1, 2, 3, 4, 5, 6, 7]\n",
      "Triple of given list is: [3, 6, 9, 12, 15, 18, 21]\n"
     ]
    }
   ],
   "source": [
    "triple = lambda x : x * 3\n",
    "\n",
    "length = int(input(\"Enter list length:\"))\n",
    "list1 = []\n",
    "for _ in range(length):\n",
    "    temp = int(input(\"Enter list item:\"))\n",
    "    list1.append(temp)\n",
    "\n",
    "list2 = list(map(triple, list1))\n",
    "\n",
    "print(\"Original list is:\", list1)\n",
    "print(\"Triple of given list is:\", list2)\n"
   ]
  },
  {
   "cell_type": "code",
   "execution_count": null,
   "id": "12110b7f",
   "metadata": {},
   "outputs": [],
   "source": []
  }
 ],
 "metadata": {
  "kernelspec": {
   "display_name": "Python 3 (ipykernel)",
   "language": "python",
   "name": "python3"
  },
  "language_info": {
   "codemirror_mode": {
    "name": "ipython",
    "version": 3
   },
   "file_extension": ".py",
   "mimetype": "text/x-python",
   "name": "python",
   "nbconvert_exporter": "python",
   "pygments_lexer": "ipython3",
   "version": "3.10.9"
  }
 },
 "nbformat": 4,
 "nbformat_minor": 5
}
